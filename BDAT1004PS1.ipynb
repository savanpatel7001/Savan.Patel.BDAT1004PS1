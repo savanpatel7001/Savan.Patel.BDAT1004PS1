{
 "cells": [
  {
   "cell_type": "markdown",
   "id": "85a14e35",
   "metadata": {},
   "source": [
    "#  BDAT1004 PROBLEM SET-1                                     SAVAN PATEL(200497485)"
   ]
  },
  {
   "cell_type": "markdown",
   "id": "ab864dcb",
   "metadata": {},
   "source": [
    "# 1. What data type is each of the following?"
   ]
  },
  {
   "cell_type": "code",
   "execution_count": null,
   "id": "5ccf8322",
   "metadata": {},
   "outputs": [],
   "source": [
    "int mynum = 5 // Whole number\n",
    "\n",
    "\n",
    "double mydoublenum = 5.0; // Floating point number\n",
    "\n",
    "\n",
    "var x = 5;\n",
    "var y = 1;\n",
    "Console.WriteLine(x > y); // returns True, because 5 is higher than 1\n",
    "\n",
    "\n",
    "char myletter='5'; // Character\n",
    "\n",
    "\n",
    "int mynum=5*2; // Integer\n",
    "\n",
    "\n",
    "int myInt = 2;\n",
    "char mychar = '5';\n",
    "Console.WriteLine(Convert.toString(myint)); // convert integer to string\n",
    "\n",
    "\n",
    "char myletter='5'+'2'; // Character\n",
    "\n",
    "\n",
    "double mydoublenum = 5/2; // floating point number\n",
    "\n",
    "\n",
    "double mydoublenum = 5%2; // floating point number\n",
    "\n",
    "\n",
    "int[] myNum = {5,2,1}; // array of integer\n",
    "\n",
    "\n",
    "var x = 5;\n",
    "var y = 3;\n",
    "Console.writeline(x == y); // returns False , beacause this universal false statement.\n",
    "\n",
    "\n",
    "double mydoublenum = pi; // floating point number"
   ]
  },
  {
   "cell_type": "markdown",
   "id": "2ef9814b",
   "metadata": {},
   "source": [
    "# 2. Write (and evaluate) C# expressions that answer these questions:\n",
    "a. How many letters are there in 'Supercalifragilisticexpialidocious'?\n",
    "b. Does 'Supercalifragilisticexpialidocious' contain 'ice' as a substring? \n",
    "c. Which of the following words is the longest:\n",
    "Supercalifragilisticexpialidocious, Honorificabilitudinitatibus, or\n",
    "Bababadalgharaghtakamminarronnkonn?\n",
    "d. Which composer comes first in the dictionary: 'Berlioz', 'Borodin', 'Brian',\n",
    "'Bartok', 'Bellini', 'Buxtehude', 'Bernstein'. Which one comes last?\n"
   ]
  },
  {
   "cell_type": "code",
   "execution_count": null,
   "id": "945f8d87",
   "metadata": {},
   "outputs": [],
   "source": [
    "# refrence:\n",
    "#1. https://zetcode.com/csharp/sortlist/\n",
    "#2. Supplementary C# tutorial part-1.\n",
    "#3. https://www.youtube.com/watch?v=GhQdlIFylQ8"
   ]
  },
  {
   "cell_type": "code",
   "execution_count": null,
   "id": "ccbe1c30",
   "metadata": {},
   "outputs": [],
   "source": [
    "#a.Find the number of letters.\n",
    "\n",
    "namespace letters\n",
    "{\n",
    "    class program\n",
    "    {\n",
    "        static void Main(sting[] args)\n",
    "        {\n",
    "            string myString = \"Supercalifragilisticexpialidocious\";\n",
    "            \n",
    "            Console.WriteLine(\"Number of letters= {0}\", myString.Length);\n",
    "            Console.ReadLine();\n",
    "        }\n",
    "    }\n",
    "}"
   ]
  },
  {
   "cell_type": "code",
   "execution_count": null,
   "id": "5a81a5d6",
   "metadata": {},
   "outputs": [],
   "source": [
    "#b. Find \"ice\" from word.\n",
    "\n",
    "namespace substring\n",
    "{\n",
    "    class program\n",
    "    {\n",
    "        static void Main()\n",
    "        {\n",
    "            string myString = \"Supercalifragilisticexpialidocious\";\n",
    "            \n",
    "            Console.WriteLine(myString.Contains(\"ice\"));\n",
    "            Console.ReadLine();\n",
    "        }\n",
    "    }\n",
    "}\n",
    "\n",
    "# after running this program, it will show \"True\" as a output that means the word contains the substring \"ice\"."
   ]
  },
  {
   "cell_type": "code",
   "execution_count": null,
   "id": "8a70f79b",
   "metadata": {},
   "outputs": [],
   "source": [
    "#c. Find the long word.\n",
    "\n",
    "using System;\n",
    "using System.Collections.Generic;\n",
    "using System.Linq;\n",
    "using System.Text;\n",
    "\n",
    "namespace longword\n",
    "{\n",
    "    class program\n",
    "    {\n",
    "        public static void Main()\n",
    "        {\n",
    "            string wordlist = \"Supercalifragilisticexpialidocious  Honorificabilitudinitatibus  Bababadalgharaghtakamminarronnkonn\";\n",
    "            string[] words = wordlist.Split(new[] { \" \" }, StringSplitOptions.None);\n",
    "            string word = \"\";\n",
    "            int x = 0;\n",
    "            foreach (String s in words)\n",
    "            {\n",
    "                if (s.Length > x)\n",
    "                {\n",
    "                    word = s;\n",
    "                    x = s.Length;\n",
    "                }\n",
    "            }\n",
    "\n",
    "            Console.WriteLine(word);\n",
    "            Console.ReadLine();\n",
    "        }\n",
    "    }\n",
    "}\n"
   ]
  },
  {
   "cell_type": "code",
   "execution_count": null,
   "id": "b1fb25e1",
   "metadata": {},
   "outputs": [],
   "source": [
    "#d. Which composer comes first and last?\n",
    "\n",
    "using System;\n",
    "using System.Collections.Generic;\n",
    "\n",
    "namespace sortlist\n",
    "{\n",
    "    class program\n",
    "    {\n",
    "        static void Main()\n",
    "\n",
    "        {\n",
    "            var composers = new List<string> { \"Berlioz\", \"Borodin\", \"Brian\", \"Bartok\", \"Bellini\", \"Buxtehude\", \"Bernstein\" };\n",
    "\n",
    "            composers.Sort();\n",
    "            Console.WriteLine(string.Join(\",\", composers));\n",
    "\n",
    "          \n",
    "        }\n",
    "    }\n",
    "}\n",
    "\n",
    "# The output will give you sorted list of composer. From that list the first word will be \"Bartok\" and the last composer will be \"Buxtehude\"."
   ]
  },
  {
   "cell_type": "markdown",
   "id": "8aaa0658",
   "metadata": {},
   "source": [
    "# 3.\n",
    "Implement function triangleArea(a,b,c) that takes as input the lengths of the 3\n",
    "sides of a triangle and returns the area of the triangle. By Heron's formula, the area\n",
    "of a triangle with side lengths a, b, and c is\n",
    "s(s - a)(s -b)(s -c)\n",
    ", where\n",
    "s = (a+b+c)/2.\n",
    ">>> triangleArea(2,2,2)\n",
    "1.7320508075688772\n"
   ]
  },
  {
   "cell_type": "code",
   "execution_count": null,
   "id": "65166c24",
   "metadata": {},
   "outputs": [],
   "source": [
    "using System;\n",
    "using System.Collections.Generic;\n",
    "using System.Linq;\n",
    "using System.Text;\n",
    "\n",
    "namespace threesides\n",
    "{\n",
    "    class program\n",
    "    {\n",
    "        static void Main(String[] args)\n",
    "        {\n",
    "            double a, b, c, s, area;\n",
    "\n",
    "            Console.Write(\"Enter the value of a= \");\n",
    "            a = double.Parse(Console.ReadLine());\n",
    "\n",
    "            Console.Write(\"Enter the value of b= \");\n",
    "            b = double.Parse(Console.ReadLine());\n",
    "\n",
    "            Console.Write(\"Enter the value of c= \");\n",
    "            c = double.Parse(Console.ReadLine());\n",
    "\n",
    "            s = (a + b + c) / 2;\n",
    "\n",
    "            area = Math.Sqrt(s * (s - a) * (s - b) * (s - c));\n",
    "\n",
    "            Console.WriteLine($\"trianglearea({a},{b},{c})={area}\");\n",
    "            Console.ReadLine();\n",
    "        }\n",
    "\n",
    "    }\n",
    "\n",
    "} "
   ]
  },
  {
   "cell_type": "markdown",
   "id": "1f7af197",
   "metadata": {},
   "source": [
    "# 4. Write a program in C# Sharp to separate odd and even integers in separate arrays.\n",
    "Go to the editor\n",
    "Test Data :\n",
    "Input the number of elements to be stored in the array :5\n",
    "Input 5 elements in the array :\n",
    "element - 0 : 25\n",
    "element - 1 : 47\n",
    "element - 2 : 42\n",
    "element - 3 : 56\n",
    "element - 4 : 32\n",
    "Expected Output:\n",
    "The Even elements are:\n",
    "42 56 32\n",
    "The Odd elements are :\n",
    "25 47"
   ]
  },
  {
   "cell_type": "code",
   "execution_count": null,
   "id": "7311f51c",
   "metadata": {},
   "outputs": [],
   "source": [
    "using System;\n",
    "\n",
    "namespace oddoreven\n",
    "{\n",
    "    class program\n",
    "\n",
    "    {\n",
    "        static void Main()\n",
    "\n",
    "        {\n",
    "            int[] a = new int[5];\n",
    "            int[] b = new int[5];\n",
    "            int[] c = new int[5];\n",
    "            int x, y = 0, z = 0, n;\n",
    "\n",
    "            Console.Write(\"Test Data:\\n\");\n",
    "            Console.Write(\"Input the number of elements to be stored in the array :\");\n",
    "            n = Convert.ToInt32(Console.ReadLine());\n",
    "\n",
    "            Console.Write(\"Input {0} elements in the array :\\n\", n);\n",
    "            for (x = 0; x < n; x++)\n",
    "            {\n",
    "                Console.Write(\"element - {0} : \", x);\n",
    "                a[x] = Convert.ToInt32(Console.ReadLine());\n",
    "            }\n",
    "\n",
    "            for (x = 0; x < n; x++)\n",
    "            {\n",
    "                if (a[x] % 2 == 0) \\\\To check if it is devided by 2 or not.\n",
    "                {\n",
    "                    b[y] = a[x];\n",
    "                    y++;\n",
    "                }\n",
    "                else\n",
    "                {\n",
    "                    c[z] = a[x];\n",
    "                    z++;\n",
    "                }\n",
    "            }\n",
    "\n",
    "            Console.Write(\"\\nThe Even elements are : \\n\");\n",
    "            for (x = 0; x < y; x++)\n",
    "            {\n",
    "                Console.Write(\"{0} \", b[x]);\n",
    "            }\n",
    "\n",
    "            Console.Write(\"\\nThe Odd elements are :\\n\");\n",
    "            for (x = 0; x < z; x++)\n",
    "            {\n",
    "                Console.Write(\"{0} \", c[x]);\n",
    "            }\n",
    "            Console.Write(\"\\n\\n\");\n",
    "        }\n",
    "    }\n",
    "}"
   ]
  },
  {
   "cell_type": "markdown",
   "id": "168baffa",
   "metadata": {},
   "source": [
    "# 5. \n",
    "a. Write a function inside(x,y,x1,y1,x2,y2) that returns True or False\n",
    "depending on whether the point (x,y) lies in the rectangle with lower left\n",
    "corner (x1,y1) and upper right corner (x2,y2).\n",
    ">>> inside(1,1,0,0,2,3)\n",
    "True\n",
    ">>> inside(-1,-1,0,0,2,3)\n",
    "False\n",
    "b. Use function inside() from part a. to write an expression that tests whether\n",
    "the point (1,1) lies in both of the following rectangles: one with lower left\n",
    "corner (0.3, 0.5) and upper right corner (1.1, 0.7) and the other with lower\n",
    "left corner (0.5, 0.2) and upper right corner (1.1, 2). "
   ]
  },
  {
   "cell_type": "code",
   "execution_count": null,
   "id": "a64b46b1",
   "metadata": {},
   "outputs": [],
   "source": [
    "#Understood the question but don't know from where to start.tried with some logic but didn't work as wanted output."
   ]
  },
  {
   "cell_type": "markdown",
   "id": "0d6a49ea",
   "metadata": {},
   "source": [
    "# 6. You can turn a word into pig-Latin using the following two rules (simplified):\n",
    "• If the word starts with a consonant, move that letter to the end and append\n",
    "'ay'. For example, 'happy' becomes 'appyhay' and 'pencil' becomes 'encilpay'.\n",
    "• If the word starts with a vowel, simply append 'way' to the end of the word.\n",
    "For example, 'enter' becomes 'enterway' and 'other' becomes 'otherway' . For\n",
    "our purposes, there are 5 vowels: a, e, i, o, u (so we count y as a consonant).\n",
    "Write a function pig() that takes a word (i.e., a string) as input and returns its pigLatin form. Your function should still work if the input word contains upper case\n",
    "characters. Your output should always be lower case however.\n",
    ">>> pig('happy')\n",
    "'appyhay'\n",
    ">>> pig('Enter')\n",
    "'enterway' "
   ]
  },
  {
   "cell_type": "code",
   "execution_count": null,
   "id": "de14622b",
   "metadata": {},
   "outputs": [],
   "source": [
    "#Reference:\n",
    "#https://www.digitalocean.com/community/tutorials/how-to-index-and-slice-strings-in-python-3\n",
    "#https://www.w3schools.com/python/python_for_loops.asp"
   ]
  },
  {
   "cell_type": "code",
   "execution_count": 32,
   "id": "5fe0cb26",
   "metadata": {},
   "outputs": [
    {
     "name": "stdout",
     "output_type": "stream",
     "text": [
      "Convert message to pig latin: happy\n",
      "appyhay\n"
     ]
    }
   ],
   "source": [
    "pigLatin = input(\"Convert message to pig latin: \")\n",
    "wordList = pigLatin.lower().split(\" \")\n",
    "vowels = ['a', 'e', 'i', 'o', 'u']\n",
    "pigLatin = []\n",
    "eachWord = []\n",
    "for word in wordList:\n",
    "    if word[0] in 'aeiou': \n",
    "        pigLatin.append(word + 'way')\n",
    "    else:\n",
    "        for letter in word:\n",
    "            if letter in 'aeiou':\n",
    "                pigLatin.append(word[word.index(letter):] + word[:word.index(letter)] +'ay')\n",
    "                break\n",
    "\n",
    "print(\" \".join(pigLatin))"
   ]
  },
  {
   "cell_type": "markdown",
   "id": "d5de9fa0",
   "metadata": {},
   "source": [
    "# 7. File bloodtype1.txt records blood-types of patients (A, B, AB, O or OO) at a clinic.\n",
    "Write a function bldcount() that reads the file with name name and reports (i.e.,\n",
    "prints) how many patients there are in each bloodtype.\n",
    ">>> bldcount('bloodtype.txt')\n",
    "There are 10 patients of blood type A.\n",
    "There is one patient of blood type B.\n",
    "There are 10 patients of blood type AB.\n",
    "There are 12 patients of blood type O.\n",
    "There are no patients of blood type OO"
   ]
  },
  {
   "cell_type": "code",
   "execution_count": 53,
   "id": "21fbbd88",
   "metadata": {},
   "outputs": [
    {
     "name": "stdout",
     "output_type": "stream",
     "text": [
      "There are 15 patients of blood type A.\n",
      "There is one patient of blood type B.\n",
      "There are 13 patients of blood type AB.\n",
      "There are 15 patients of blood type O.\n",
      "There are no patients of blood type OO.\n"
     ]
    }
   ],
   "source": [
    "import os\n",
    "\n",
    "os.chdir(\"C:\\\\Users\\\\Savan Patel\\\\Desktop\")\n",
    "fileName=\"bloodtype1.txt\"\n",
    "textfile=open(fileName,\"r\")\n",
    "inputString=textfile.read()\n",
    "\n",
    "def bldcount(filename):\n",
    "    infile=open(filename, 'r')\n",
    "    content= infile.read()\n",
    "    infile.close()\n",
    "    content=content.split()\n",
    "    bloodtype = ['A','B','AB','O','OO']\n",
    "    for i in bloodtype:\n",
    "        if content.count(i)==0:\n",
    "            print('There are no patients of blood type',i+'.')\n",
    "        elif content.count(i)==1:\n",
    "            print('There is one patient of blood type',i+'.')\n",
    "        else:\n",
    "            print('There are',content.count(i),'patients of blood type', i+'.')\n",
    "\n",
    "bldcount('bloodtype1.txt')"
   ]
  },
  {
   "cell_type": "markdown",
   "id": "da62f226",
   "metadata": {},
   "source": [
    "# 8. Write a function curconv() that takes as input:\n",
    "1. a currency represented using a string (e.g., 'JPY' for the Japanese Yen or\n",
    "'EUR' for the Euro)\n",
    "2. an amount\n",
    "and then converts and returns the amount in US dollars.\n",
    ">>> curconv('EUR', 100)\n",
    "122.96544\n",
    ">>> curconv('JPY', 100)\n",
    "1.241401\n",
    "The currency rates you will need are stored in file currencies.txt:\n",
    "AUD 1.0345157 Australian Dollar\n",
    "CHF 1.0237414 Swiss Franc\n",
    "CNY 0.1550176 Chinese Yuan\n",
    "DKK 0.1651442 Danish Krone\n",
    "EUR 1.2296544 Euro\n",
    "GBP 1.5550989 British Pound\n",
    "HKD 0.1270207 Hong Kong Dollar\n",
    "INR 0.0177643 Indian Rupee\n",
    "JPY 0.01241401 Japanese Yen\n",
    "MXN 0.0751848 Mexican Peso\n",
    "MYR 0.3145411 Malaysian Ringgit\n",
    "NOK 0.1677063 Norwegian Krone\n",
    "NZD 0.8003591 New Zealand Dollar\n",
    "PHP 0.0233234 Philippine Peso\n",
    "SEK 0.148269 Swedish Krona\n",
    "SGD 0.788871 Singapore Dollar\n",
    "THB 0.0313789 Thai Baht\n"
   ]
  },
  {
   "cell_type": "code",
   "execution_count": 56,
   "id": "be98df30",
   "metadata": {},
   "outputs": [],
   "source": [
    "def curconv (curr,amount):\n",
    "    infile = open('currencies.txt')\n",
    "    content = infile.readlines()\n",
    "    infile.close()\n",
    "    for lines in content:\n",
    "        if curr == lines.split()[0]:\n",
    "            return float(lines.split()[1])* amount"
   ]
  },
  {
   "cell_type": "code",
   "execution_count": 57,
   "id": "0f10c862",
   "metadata": {},
   "outputs": [
    {
     "data": {
      "text/plain": [
       "122.96544"
      ]
     },
     "execution_count": 57,
     "metadata": {},
     "output_type": "execute_result"
    }
   ],
   "source": [
    "curconv('EUR', 100)"
   ]
  },
  {
   "cell_type": "code",
   "execution_count": 58,
   "id": "2bc1afd0",
   "metadata": {},
   "outputs": [
    {
     "data": {
      "text/plain": [
       "1.241401"
      ]
     },
     "execution_count": 58,
     "metadata": {},
     "output_type": "execute_result"
    }
   ],
   "source": [
    "curconv('JPY', 100)"
   ]
  },
  {
   "cell_type": "markdown",
   "id": "229e1656",
   "metadata": {},
   "source": [
    "# 9. \n",
    "Each of the following will cause an exception (an error). Identify what type of\n",
    "exception each will cause.\n",
    "Trying to add incompatible variables, as in\n",
    "adding 6 + ‘a’\n",
    "Referring to the 12th item of a list that has only 10\n",
    "items\n",
    "Using a value that is out of range for a function’s\n",
    "input, such as calling math.sqrt(-1.0)\n",
    "Using an undeclared variable, such as print(x)\n",
    "when x has not been defined\n",
    "Trying to open a file that does not exist, such as\n",
    "mistyping the file name or looking in the wrong\n",
    "directory. "
   ]
  },
  {
   "cell_type": "code",
   "execution_count": null,
   "id": "ba48d694",
   "metadata": {},
   "outputs": [],
   "source": [
    "#Reference:  \n",
    "#https://python-textbok.readthedocs.io/en/1.0/Errors_and_Exceptions.html"
   ]
  },
  {
   "cell_type": "code",
   "execution_count": 8,
   "id": "2ab01a37",
   "metadata": {},
   "outputs": [
    {
     "ename": "TypeError",
     "evalue": "unsupported operand type(s) for +: 'int' and 'str'",
     "output_type": "error",
     "traceback": [
      "\u001b[1;31m---------------------------------------------------------------------------\u001b[0m",
      "\u001b[1;31mTypeError\u001b[0m                                 Traceback (most recent call last)",
      "\u001b[1;32m<ipython-input-8-63a7ed804344>\u001b[0m in \u001b[0;36m<module>\u001b[1;34m\u001b[0m\n\u001b[1;32m----> 1\u001b[1;33m \u001b[1;36m6\u001b[0m \u001b[1;33m+\u001b[0m \u001b[1;34m'a'\u001b[0m\u001b[1;33m\u001b[0m\u001b[1;33m\u001b[0m\u001b[0m\n\u001b[0m",
      "\u001b[1;31mTypeError\u001b[0m: unsupported operand type(s) for +: 'int' and 'str'"
     ]
    }
   ],
   "source": [
    "6 + 'a'\n",
    "\n",
    "#The operation will generate an \"unsupported operand type\" Since 6 is an integer type and 'a' is a character type. No Arithmetic/Mathematical operations can be performed without using typecasting."
   ]
  },
  {
   "cell_type": "code",
   "execution_count": 11,
   "id": "36b9023c",
   "metadata": {},
   "outputs": [
    {
     "ename": "IndexError",
     "evalue": "list index out of range",
     "output_type": "error",
     "traceback": [
      "\u001b[1;31m---------------------------------------------------------------------------\u001b[0m",
      "\u001b[1;31mIndexError\u001b[0m                                Traceback (most recent call last)",
      "\u001b[1;32m<ipython-input-11-68481e53234a>\u001b[0m in \u001b[0;36m<module>\u001b[1;34m\u001b[0m\n\u001b[0;32m      1\u001b[0m \u001b[0mmonth\u001b[0m \u001b[1;33m=\u001b[0m \u001b[1;33m[\u001b[0m\u001b[1;34m'jan'\u001b[0m\u001b[1;33m,\u001b[0m\u001b[1;34m'feb'\u001b[0m\u001b[1;33m,\u001b[0m\u001b[1;34m'mar'\u001b[0m\u001b[1;33m,\u001b[0m\u001b[1;34m'apr'\u001b[0m\u001b[1;33m,\u001b[0m\u001b[1;34m'may'\u001b[0m\u001b[1;33m,\u001b[0m\u001b[1;34m'jun'\u001b[0m\u001b[1;33m,\u001b[0m\u001b[1;34m'jul'\u001b[0m\u001b[1;33m,\u001b[0m\u001b[1;34m'aug'\u001b[0m\u001b[1;33m,\u001b[0m\u001b[1;34m'sep'\u001b[0m\u001b[1;33m,\u001b[0m\u001b[1;34m'oct'\u001b[0m\u001b[1;33m]\u001b[0m\u001b[1;33m\u001b[0m\u001b[1;33m\u001b[0m\u001b[0m\n\u001b[1;32m----> 2\u001b[1;33m \u001b[0mprint\u001b[0m\u001b[1;33m(\u001b[0m\u001b[1;34m'the month is is '\u001b[0m\u001b[1;33m,\u001b[0m \u001b[0mmonth\u001b[0m\u001b[1;33m[\u001b[0m\u001b[1;36m11\u001b[0m\u001b[1;33m]\u001b[0m\u001b[1;33m)\u001b[0m\u001b[1;33m\u001b[0m\u001b[1;33m\u001b[0m\u001b[0m\n\u001b[0m",
      "\u001b[1;31mIndexError\u001b[0m: list index out of range"
     ]
    }
   ],
   "source": [
    "month = ['jan','feb','mar','apr','may','jun','jul','aug','sep','oct']\n",
    "print('the month is is ', month[11])\n",
    "\n",
    "#We are actually asking for the value that is out of range, so the statement will generate Index error since our last item index is [9] and we're asking for a what is the value at index [11] which is out of range for all the recorded values."
   ]
  },
  {
   "cell_type": "code",
   "execution_count": 12,
   "id": "7d7198af",
   "metadata": {},
   "outputs": [
    {
     "ename": "ValueError",
     "evalue": "math domain error",
     "output_type": "error",
     "traceback": [
      "\u001b[1;31m---------------------------------------------------------------------------\u001b[0m",
      "\u001b[1;31mValueError\u001b[0m                                Traceback (most recent call last)",
      "\u001b[1;32m<ipython-input-12-d39e523296ce>\u001b[0m in \u001b[0;36m<module>\u001b[1;34m\u001b[0m\n\u001b[0;32m      1\u001b[0m \u001b[1;32mimport\u001b[0m \u001b[0mmath\u001b[0m\u001b[1;33m\u001b[0m\u001b[1;33m\u001b[0m\u001b[0m\n\u001b[1;32m----> 2\u001b[1;33m \u001b[0mmath\u001b[0m\u001b[1;33m.\u001b[0m\u001b[0msqrt\u001b[0m\u001b[1;33m(\u001b[0m\u001b[1;33m-\u001b[0m\u001b[1;36m1.0\u001b[0m\u001b[1;33m)\u001b[0m\u001b[1;33m\u001b[0m\u001b[1;33m\u001b[0m\u001b[0m\n\u001b[0m",
      "\u001b[1;31mValueError\u001b[0m: math domain error"
     ]
    }
   ],
   "source": [
    "import math\n",
    "math.sqrt(-1.0)\n",
    "\n",
    "#The given statement will generate Math Domain error since squre root of (-1) is not a real time value. It is an imagnary value."
   ]
  },
  {
   "cell_type": "code",
   "execution_count": 13,
   "id": "a255f71f",
   "metadata": {},
   "outputs": [
    {
     "ename": "NameError",
     "evalue": "name 'hello' is not defined",
     "output_type": "error",
     "traceback": [
      "\u001b[1;31m---------------------------------------------------------------------------\u001b[0m",
      "\u001b[1;31mNameError\u001b[0m                                 Traceback (most recent call last)",
      "\u001b[1;32m<ipython-input-13-1cd80308eb4c>\u001b[0m in \u001b[0;36m<module>\u001b[1;34m\u001b[0m\n\u001b[1;32m----> 1\u001b[1;33m \u001b[0mprint\u001b[0m\u001b[1;33m(\u001b[0m\u001b[0mhello\u001b[0m\u001b[1;33m)\u001b[0m\u001b[1;33m\u001b[0m\u001b[1;33m\u001b[0m\u001b[0m\n\u001b[0m",
      "\u001b[1;31mNameError\u001b[0m: name 'hello' is not defined"
     ]
    }
   ],
   "source": [
    "print(hello)\n",
    "\n",
    "#The given statement will generate an undefined variable error since we haven't declared the Hello variable globally or locally.  So if we use the name of such variable which hasn't been declared yet, an  \"undeclared compiletime error will occure."
   ]
  },
  {
   "cell_type": "code",
   "execution_count": 14,
   "id": "1296ecf5",
   "metadata": {},
   "outputs": [
    {
     "ename": "FileNotFoundError",
     "evalue": "[Errno 2] No such file or directory: 'recentlyUpdated.txt'",
     "output_type": "error",
     "traceback": [
      "\u001b[1;31m---------------------------------------------------------------------------\u001b[0m",
      "\u001b[1;31mFileNotFoundError\u001b[0m                         Traceback (most recent call last)",
      "\u001b[1;32m<ipython-input-14-d36cdf07bab7>\u001b[0m in \u001b[0;36m<module>\u001b[1;34m\u001b[0m\n\u001b[1;32m----> 1\u001b[1;33m \u001b[0mopenTheFile\u001b[0m \u001b[1;33m=\u001b[0m \u001b[0mopen\u001b[0m\u001b[1;33m(\u001b[0m\u001b[1;34m'recentlyUpdated.txt'\u001b[0m\u001b[1;33m)\u001b[0m\u001b[1;33m\u001b[0m\u001b[1;33m\u001b[0m\u001b[0m\n\u001b[0m",
      "\u001b[1;31mFileNotFoundError\u001b[0m: [Errno 2] No such file or directory: 'recentlyUpdated.txt'"
     ]
    }
   ],
   "source": [
    "openTheFile = open('recentlyUpdated.txt')\n",
    "\n",
    "#the given statement will generate \"no such file or directory error. Since the file name we're using is not present is the current working directory. or may be the spelling or the extension of the file is wrong and not extctly matching with the string we have provided as file name."
   ]
  },
  {
   "cell_type": "markdown",
   "id": "7b5090a5",
   "metadata": {},
   "source": [
    "# 10.\n",
    "Encryption is the process of hiding the meaning of a text by substituting letters in the\n",
    "message with other letters, according to some system. If the process is successful, no\n",
    "one but the intended recipient can understand the encrypted message. Cryptanalysis\n",
    "refers to attempts to undo the encryption, even if some details of the encryption are\n",
    "unknown (for example, if an encrypted message has been intercepted). The first step\n",
    "of cryptanalysis is often to build up a table of letter frequencies in the encrypted text.\n",
    "Assume that the string letters is already defined as\n",
    "'abcdefghijklmnopqrstuvwxyz'. Write a function called frequencies()\n",
    "that takes a string as its only parameter, and returns a list of integers, showing the\n",
    "number of times each character appears in the text. Your function may ignore any\n",
    "characters that are not in letters.\n",
    ">>> frequencies('The quick red fox got bored and went home.')\n",
    "[1, 1, 1, 3, 5, 1, 1, 2, 1, 0, 1, 0, 1, 2, 4, 0, 1, 2, 0, 2,\n",
    "1, 0, 1, 1, 0, 0]\n",
    ">>> frequencies('apple')"
   ]
  },
  {
   "cell_type": "code",
   "execution_count": null,
   "id": "96734760",
   "metadata": {},
   "outputs": [],
   "source": [
    "#understood the question but don't know how to start."
   ]
  }
 ],
 "metadata": {
  "kernelspec": {
   "display_name": "Python 3",
   "language": "python",
   "name": "python3"
  },
  "language_info": {
   "codemirror_mode": {
    "name": "ipython",
    "version": 3
   },
   "file_extension": ".py",
   "mimetype": "text/x-python",
   "name": "python",
   "nbconvert_exporter": "python",
   "pygments_lexer": "ipython3",
   "version": "3.8.8"
  }
 },
 "nbformat": 4,
 "nbformat_minor": 5
}
